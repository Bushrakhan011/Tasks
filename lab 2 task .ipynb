{
 "cells": [
  {
   "cell_type": "code",
   "execution_count": 23,
   "id": "ca04a903",
   "metadata": {},
   "outputs": [
    {
     "name": "stdout",
     "output_type": "stream",
     "text": [
      "true\n",
      "<class 'str'>\n",
      "False\n",
      "False\n",
      "true\n",
      "False\n",
      "True\n",
      "False\n",
      "False\n"
     ]
    }
   ],
   "source": [
    "a = \"true\" \n",
    "b = False\n",
    "c= a and b\n",
    "d = a !=b\n",
    "q = a and b and c and d \n",
    "print (a and a and a)\n",
    "print(type(a))\n",
    "print(a and b)\n",
    "print(a and b)\n",
    "print (a or b)\n",
    "print(not a)\n",
    "print(a !=b)\n",
    "print(c)\n",
    "print (q)"
   ]
  },
  {
   "cell_type": "code",
   "execution_count": 1,
   "id": "8d2f9c5e",
   "metadata": {},
   "outputs": [
    {
     "name": "stdout",
     "output_type": "stream",
     "text": [
      "apple\n",
      "banana\n",
      "coffee\n"
     ]
    }
   ],
   "source": [
    "favourites = [\"biryani\" , \"pepsi\" , \"coffee\"]\n",
    "\n",
    "for x in favourites:\n",
    "    print (x)"
   ]
  },
  {
   "cell_type": "code",
   "execution_count": 51,
   "id": "4c320e75",
   "metadata": {},
   "outputs": [
    {
     "name": "stdout",
     "output_type": "stream",
     "text": [
      "[0, 1, 2, 3, 4]\n",
      "[2, 3]\n",
      "[2, 3, 4]\n",
      "[0, 1]\n",
      "[0, 1, 2, 3, 4]\n",
      "[0, 1, 2, 3]\n",
      "[0, 1, 8, 3, 4]\n"
     ]
    }
   ],
   "source": [
    "nums = list(range(5))\n",
    "print (nums)\n",
    "print (nums[2:4])\n",
    "print (nums[2:])\n",
    "print (nums[:2])\n",
    "print(nums[:])\n",
    "print (nums[:-1])\n",
    "nums [2:3 :4] = [8]\n",
    "print (nums)"
   ]
  },
  {
   "cell_type": "code",
   "execution_count": null,
   "id": "f530d23e",
   "metadata": {},
   "outputs": [],
   "source": []
  }
 ],
 "metadata": {
  "kernelspec": {
   "display_name": "Python 3 (ipykernel)",
   "language": "python",
   "name": "python3"
  },
  "language_info": {
   "codemirror_mode": {
    "name": "ipython",
    "version": 3
   },
   "file_extension": ".py",
   "mimetype": "text/x-python",
   "name": "python",
   "nbconvert_exporter": "python",
   "pygments_lexer": "ipython3",
   "version": "3.9.7"
  }
 },
 "nbformat": 4,
 "nbformat_minor": 5
}
