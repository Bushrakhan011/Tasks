{
 "cells": [
  {
   "cell_type": "code",
   "execution_count": 1,
   "id": "af162c5d",
   "metadata": {},
   "outputs": [
    {
     "name": "stdout",
     "output_type": "stream",
     "text": [
      "\t f'(x)\t\t err\t\t f''(x)\t\t err'\n",
      "FFD\t 0.000000\t-0.094050\t-0.000000\t 0.118000\n",
      "BFD\t 0.000000\t-0.094050\t 0.000000\t 0.118000\n",
      "CFD\t 0.000000\t-0.094050\t 0.000000\t 0.118000\n"
     ]
    }
   ],
   "source": [
    "import numpy as np \n",
    "import matplotlib.pyplot as plt\n",
    "f = lambda x: 0.1*x*5 - 0.2*x*3 + 0.1*x-0.2\n",
    "x = 0.1\n",
    "h = 0.1\n",
    "df1 = 0.09405\n",
    "df2 = -0.118\n",
    "\n",
    "print (\"\\t f'(x)\\t\\t err\\t\\t f''(x)\\t\\t err'\")\n",
    "\n",
    "dff1 = (f(x+h) - f(x))/h\n",
    "dff2 = ((f(x+2*h) - 2*f(x+h)) + f(x))/h**2\n",
    "print (\"FFD\\t% f\\t% f\\t% f\\t% f\"% (dff1, dff1-df1,dff2, dff2-df2))\n",
    "\n",
    "dff1 = (f(x) - f(x-h))/h\n",
    "dff2 = ((f(x) - 2*f(x-h)) + f(x-2*h))/h**2\n",
    "print (\"BFD\\t% f\\t% f\\t% f\\t% f\"% (dff1, dff1-df1,dff2, dff2-df2))\n",
    "\n",
    "dff1 = (f(x+h) - f(x-h))/(2*h)\n",
    "dff2 = ((f(x+h) - 2*f(x)) + f(x-h))/h**2\n",
    "print (\"CFD\\t% f\\t% f\\t% f\\t% f\"% (dff1, dff1-df1,dff2, dff2-df2))"
   ]
  },
  {
   "cell_type": "code",
   "execution_count": 7,
   "id": "871be699",
   "metadata": {},
   "outputs": [
    {
     "data": {
      "text/plain": [
       "<function matplotlib.pyplot.grid(b=None, which='major', axis='both', **kwargs)>"
      ]
     },
     "execution_count": 7,
     "metadata": {},
     "output_type": "execute_result"
    },
    {
     "data": {
      "image/png": "[encoded data removed]",
      "text/plain": [
       "<Figure size 432x288 with 1 Axes>"
      ]
     },
     "metadata": {
      "needs_background": "light"
     },
     "output_type": "display_data"
    }
   ],
   "source": [
    "import numpy as np \n",
    "import matplotlib.pyplot as plt\n",
    "f = lambda x: 0.1*x**5 - 0.2*x**3 + 0.1*x-0.2\n",
    "h = 0.01\n",
    "x = np.linspace(-1,1,100) # will create an array of elemets between -1 and 1 having 20 equal spaces \n",
    "\n",
    "dff1 = (f(x+h) - f(x-h))/(2*h)\n",
    "dff2 = ((f(x+h) - 2*f(x)) + f(x-h))/h**2\n",
    " #plot \n",
    "plt.plot (x,f(x), '-k', x,dff1, '--b',x,dff2,'-.r')\n",
    "plt.xlabel('x')\n",
    "plt.ylabel('y')\n",
    "\n",
    "plt.legend ([\"f(x)\", \"f'(x)\", \"f''(x)\"])\n",
    "plt.grid"
   ]
  },
  {
   "cell_type": "code",
   "execution_count": null,
   "id": "5826c235",
   "metadata": {},
   "outputs": [],
   "source": []
  }
 ],
 "metadata": {
  "kernelspec": {
   "display_name": "Python 3 (ipykernel)",
   "language": "python",
   "name": "python3"
  },
  "language_info": {
   "codemirror_mode": {
    "name": "ipython",
    "version": 3
   },
   "file_extension": ".py",
   "mimetype": "text/x-python",
   "name": "python",
   "nbconvert_exporter": "python",
   "pygments_lexer": "ipython3",
   "version": "3.9.7"
  }
 },
 "nbformat": 4,
 "nbformat_minor": 5
}
