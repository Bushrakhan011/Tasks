{
 "cells": [
  {
   "cell_type": "code",
   "execution_count": 67,
   "id": "d7c44d02",
   "metadata": {},
   "outputs": [
    {
     "name": "stdout",
     "output_type": "stream",
     "text": [
      "Part i \n",
      " [ 0.          0.1010101   0.2020202   0.3030303   0.4040404   0.50505051\n",
      "  0.60606061  0.70707071  0.80808081  0.90909091  1.01010101  1.11111111\n",
      "  1.21212121  1.31313131  1.41414141  1.51515152  1.61616162  1.71717172\n",
      "  1.81818182  1.91919192  2.02020202  2.12121212  2.22222222  2.32323232\n",
      "  2.42424242  2.52525253  2.62626263  2.72727273  2.82828283  2.92929293\n",
      "  3.03030303  3.13131313  3.23232323  3.33333333  3.43434343  3.53535354\n",
      "  3.63636364  3.73737374  3.83838384  3.93939394  4.04040404  4.14141414\n",
      "  4.24242424  4.34343434  4.44444444  4.54545455  4.64646465  4.74747475\n",
      "  4.84848485  4.94949495  5.05050505  5.15151515  5.25252525  5.35353535\n",
      "  5.45454545  5.55555556  5.65656566  5.75757576  5.85858586  5.95959596\n",
      "  6.06060606  6.16161616  6.26262626  6.36363636  6.46464646  6.56565657\n",
      "  6.66666667  6.76767677  6.86868687  6.96969697  7.07070707  7.17171717\n",
      "  7.27272727  7.37373737  7.47474747  7.57575758  7.67676768  7.77777778\n",
      "  7.87878788  7.97979798  8.08080808  8.18181818  8.28282828  8.38383838\n",
      "  8.48484848  8.58585859  8.68686869  8.78787879  8.88888889  8.98989899\n",
      "  9.09090909  9.19191919  9.29292929  9.39393939  9.49494949  9.5959596\n",
      "  9.6969697   9.7979798   9.8989899  10.        ]\n",
      "\n",
      "\n",
      "Part ii\n",
      " [1, 4, 7, 10, 13, 16, 19, 22, 25, 28, 31, 34, 37, 40, 43, 46, 49, 52, 55, 58, 61, 64, 67, 70, 73, 76, 79, 82, 85, 88, 91, 94, 97]\n",
      "\n",
      "\n",
      "Part iii\n"
     ]
    },
    {
     "data": {
      "image/png": "[encoded data removed]",
      "text/plain": [
       "<Figure size 432x288 with 1 Axes>"
      ]
     },
     "metadata": {
      "needs_background": "light"
     },
     "output_type": "display_data"
    },
    {
     "name": "stdout",
     "output_type": "stream",
     "text": [
      "\n",
      "\n",
      "Part iv\n",
      "Putting 2 in equation : \n",
      "4.5\n",
      "\n",
      "\n",
      "Part v\n",
      "Enter value: 2.5\n",
      "The answer is :  -2.7168207834524436\n",
      "\n",
      "\n",
      "Part vi\n",
      "['islamabad', 'lahore', 'karachi', 'mansehra', 'rawalpindi', 'khushab', 'sargodha', 'mianwali', 'peshawar', 'quetta']\n",
      "\n",
      "\n",
      "Part vii\n",
      "[ 1  2  3  4  5  6  7  8  9 10]\n"
     ]
    }
   ],
   "source": [
    "import matplotlib.pyplot as plt\n",
    "import numpy as np\n",
    "import math\n",
    "\n",
    "#question 1 part i\n",
    "x = np.linspace(0, 10, num=100)\n",
    "print(\"Part i \\n\",x)\n",
    "\n",
    "\n",
    "#question 1 part ii\n",
    "partb = []\n",
    "for i in range ( 1,100,3 ):\n",
    "    partb.append(i)\n",
    "print(\"\\n\\nPart ii\\n\",partb)\n",
    "\n",
    "\n",
    "#question 1 part iii\n",
    "print(\"\\n\\nPart iii\")\n",
    "x = np.linspace(-6, 6, 50)\n",
    "y = x**3 - 5*x - 9\n",
    "plt.plot(x, y, 'b', label ='cos(x)')\n",
    "plt.xlabel('x-axis')\n",
    "plt.ylabel('y-axis')\n",
    "plt.grid()\n",
    "plt.show()\n",
    "\n",
    "#question 1 part iv\n",
    "print(\"\\n\\nPart iv\")\n",
    "y = lambda x: 2*x**3 - 9.5*x + 7.5\n",
    "print(\"Putting 2 in equation : \")\n",
    "print(y(2))\n",
    "\n",
    "#question 1 part v\n",
    "print(\"\\n\\nPart v\")\n",
    "def f(x): \n",
    "    return x**2 - math.sin(x**2) - 4*x + 1\n",
    "\n",
    "x0 = float(input('Enter value: '))\n",
    "print(\"The answer is : \",f(x0))\n",
    "\n",
    "#question 1 part vi\n",
    "print(\"\\n\\nPart vi\")\n",
    "cities = [\"islamabad\",\"lahore\",\"karachi\",\"mansehra\",\"rawalpindi\"]\n",
    "cities.append(\"khushab\")\n",
    "cities.append(\"sargodha\")\n",
    "cities.append(\"mianwali\")\n",
    "cities.append(\"peshawar\")\n",
    "cities.append(\"quetta\")\n",
    "\n",
    "print(cities)\n",
    "\n",
    "#question 1 part vii\n",
    "print(\"\\n\\nPart vii\")\n",
    "arr = np.array([1, 2, 3, 4, 5,6,7,8,9,10])\n",
    "print(arr)\n",
    "\n"
   ]
  },
  {
   "cell_type": "code",
   "execution_count": null,
   "id": "be868ee0",
   "metadata": {},
   "outputs": [],
   "source": []
  },
  {
   "cell_type": "code",
   "execution_count": 68,
   "id": "0e7ee316",
   "metadata": {},
   "outputs": [
    {
     "name": "stdout",
     "output_type": "stream",
     "text": [
      "\n",
      "\n",
      "Part i\n",
      "[ 1  2  3  4  5  6  7  8  9 10 11 12 13 14 15 16 17 18 19 20 21 22 23 24\n",
      " 25 26 27 28 29 30]\n",
      "\n",
      " [[ 1  2  3  4  5  6]\n",
      " [ 7  8  9 10 11 12]\n",
      " [13 14 15 16 17 18]\n",
      " [19 20 21 22 23 24]\n",
      " [25 26 27 28 29 30]]\n",
      "\n",
      "     C1  C2  C3  C4  C5  C6\n",
      "R1   1   2   3   4   5   6\n",
      "R2   7   8   9  10  11  12\n",
      "R3  13  14  15  16  17  18\n",
      "R4  19  20  21  22  23  24\n",
      "R5  25  26  27  28  29  30\n",
      "\n",
      "\n",
      "Part  ii\n",
      "18\n",
      "\n",
      "\n",
      "Part  iii\n",
      "[[ 1  2  3  4  5  6]\n",
      " [ 7  8  9 10 11 12]\n",
      " [13 14 15 16 17 18]\n",
      " [19 20 21 22 23 24]\n",
      " [25 26 27 28 29 30]]\n"
     ]
    }
   ],
   "source": [
    "import matplotlib.pyplot as plt\n",
    "import pandas as pd\n",
    "import numpy as np\n",
    "import math\n",
    "\n",
    "#question 3 part i\n",
    "print(\"\\n\\nPart i\")\n",
    "x = np.arange(start=1, stop=31)\n",
    "print(x)\n",
    "y = np.reshape(x, (5,6))\n",
    "print (\"\\n\",y)\n",
    "\n",
    "\n",
    "data = pd.DataFrame(y,index=['R1','R2','R3','R4','R5'],columns=['C1','C2','C3','C4','C5','C6'])\n",
    "print(\"\\n\",data)\n",
    "\n",
    "print(\"\\n\\nPart  ii\")\n",
    "print ( data.loc['R3','C6'] )\n",
    "\n",
    "print(\"\\n\\nPart  iii\")\n",
    "new = data.to_numpy()\n",
    "print(new)"
   ]
  },
  {
   "cell_type": "code",
   "execution_count": 69,
   "id": "2b4a338b",
   "metadata": {},
   "outputs": [
    {
     "data": {
      "image/png": "[encoded data removed]",
      "text/plain": [
       "<Figure size 432x288 with 1 Axes>"
      ]
     },
     "metadata": {
      "needs_background": "light"
     },
     "output_type": "display_data"
    }
   ],
   "source": [
    "#question 4\n",
    "import matplotlib.pyplot as plt\n",
    "from scipy import interpolate\n",
    "\n",
    "x = [0, 0.6981317 , 1.3962634 , 2.0943951 , 2.7925268 , \n",
    "             3.4906585, 4.1887902, 4.88692191, 5.58505361, 6.28318531]\n",
    "\n",
    "y = [0.00000000e+00, 6.42787610e-01, 9.84807753e-01, 8.66025404e-01, 3.42020143e-01,\n",
    "              -3.42020143e-01, -8.66025404e01, -9.84807753e-01, -6.42787610e-01, -2.44929360e-16]\n",
    "\n",
    "f = interpolate.interp1d(x, y)\n",
    "\n",
    "xnew = np.arange(0, 6, 0.1)\n",
    "ynew = f(xnew)  \n",
    "\n",
    "plt.plot(x, y, 'o', xnew, ynew, '-')\n",
    "plt.show()"
   ]
  },
  {
   "cell_type": "code",
   "execution_count": 70,
   "id": "49872620",
   "metadata": {},
   "outputs": [
    {
     "name": "stdout",
     "output_type": "stream",
     "text": [
      "first guess: 1\n",
      "second guess: 6\n",
      "tolerance: 0.001\n",
      "1 : 1 \t\t  6 \t\t -13 \t\t 177 \t\t 3 \t\t 16 \n",
      "2 : 1 \t\t  3 \t\t -13 \t\t 16 \t\t 2 \t\t -8 \n",
      "3 : 2 \t\t  3 \t\t -8 \t\t 16 \t\t 2 \t\t 0 \n",
      "4 : 2 \t\t  2 \t\t -8 \t\t 0 \t\t 2 \t\t -4 \n",
      "5 : 2 \t\t  2 \t\t -4 \t\t 0 \t\t 2 \t\t -2 \n",
      "6 : 2 \t\t  2 \t\t -2 \t\t 0 \t\t 2 \t\t -1 \n",
      "7 : 2 \t\t  2 \t\t -1 \t\t 0 \t\t 2 \t\t 0 \n",
      "8 : 2 \t\t  2 \t\t 0 \t\t 0 \t\t 2 \t\t 0 \n",
      "9 : 2 \t\t  2 \t\t 0 \t\t 0 \t\t 2 \t\t 0 \n",
      "10 : 2 \t\t  2 \t\t 0 \t\t 0 \t\t 2 \t\t 0 \n",
      "11 : 2 \t\t  2 \t\t 0 \t\t 0 \t\t 2 \t\t 0 \n",
      "12 : 2 \t\t  2 \t\t 0 \t\t 0 \t\t 2 \t\t 0 \n",
      "13 : 2 \t\t  2 \t\t 0 \t\t 0 \t\t 2 \t\t 0 \n",
      "14 : 2 \t\t  2 \t\t 0 \t\t 0 \t\t 2 \t\t 0 \n",
      "root is :2.85516357 \n"
     ]
    }
   ],
   "source": [
    "import numpy as np\n",
    "def bisection(x0,x1,e): \n",
    "    step = 1  # for printing step number\n",
    "    condition = True  \n",
    "    while condition: # if condition is true then run loop otherwise break\n",
    "        x2 = (x0+x1)/2    # finding mean of x0 and x1 \n",
    "        print('%d : %d \\t\\t  %d \\t\\t %d \\t\\t %d \\t\\t %d \\t\\t %d ' %(step,x0 , x1 , f(x0) , f(x1), x2 , f(x2))) \n",
    "        if f(x0) * f(x2) < 0:   # if product of fx0 and fx2 is less than 0\n",
    "            x1 = x2   # put value of x2 in x1\n",
    "        else:\n",
    "            x0 = x2   # if value greater than 0 then put x2 in x1\n",
    "        step = step +1   # increment step number\n",
    "        # if abs(f(x2) > e) is true then condition takes true value else it takes false value\n",
    "        condition = abs(f(x2)) > e    \n",
    "    # print root after all iterations\n",
    "    print('root is :%0.8f '%x2)\n",
    "def f(x): \n",
    "    return x**3-5*x-9\n",
    "\n",
    "x0 = float(input('first guess: '))  \n",
    "x1 = float(input('second guess: ')) \n",
    "e  = float(input('tolerance: '))    \n",
    "if f(x0) * f(x1) > 0.0:  \n",
    "    print('given guess values do not bracket the root')\n",
    "else:   \n",
    "    root = bisection(x0,x1,e)  "
   ]
  },
  {
   "cell_type": "code",
   "execution_count": null,
   "id": "cc21e74a",
   "metadata": {},
   "outputs": [],
   "source": []
  }
 ],
 "metadata": {
  "kernelspec": {
   "display_name": "Python 3",
   "language": "python",
   "name": "python3"
  },
  "language_info": {
   "codemirror_mode": {
    "name": "ipython",
    "version": 3
   },
   "file_extension": ".py",
   "mimetype": "text/x-python",
   "name": "python",
   "nbconvert_exporter": "python",
   "pygments_lexer": "ipython3",
   "version": "3.8.8"
  }
 },
 "nbformat": 4,
 "nbformat_minor": 5
}
